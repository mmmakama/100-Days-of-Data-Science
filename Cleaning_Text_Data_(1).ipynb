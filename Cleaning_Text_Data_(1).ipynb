{
  "nbformat": 4,
  "nbformat_minor": 0,
  "metadata": {
    "kernelspec": {
      "display_name": "Python 3",
      "language": "python",
      "name": "python3"
    },
    "language_info": {
      "codemirror_mode": {
        "name": "ipython",
        "version": 3
      },
      "file_extension": ".py",
      "mimetype": "text/x-python",
      "name": "python",
      "nbconvert_exporter": "python",
      "pygments_lexer": "ipython3",
      "version": "3.7.3"
    },
    "colab": {
      "name": "Cleaning Text Data (1).ipynb",
      "provenance": [],
      "include_colab_link": true
    }
  },
  "cells": [
    {
      "cell_type": "markdown",
      "metadata": {
        "id": "view-in-github",
        "colab_type": "text"
      },
      "source": [
        "<a href=\"https://colab.research.google.com/github/makama-md/100-Days-of-Data-Science/blob/master/Cleaning_Text_Data_(1).ipynb\" target=\"_parent\"><img src=\"https://colab.research.google.com/assets/colab-badge.svg\" alt=\"Open In Colab\"/></a>"
      ]
    },
    {
      "cell_type": "markdown",
      "metadata": {
        "id": "IpYHM6K-SkKi"
      },
      "source": [
        "# Text Cleaning in Python"
      ]
    },
    {
      "cell_type": "code",
      "metadata": {
        "id": "uv4Wf8AESkKk"
      },
      "source": [
        "#warnings :)\n",
        "import warnings\n",
        "warnings.filterwarnings('ignore')"
      ],
      "execution_count": null,
      "outputs": []
    },
    {
      "cell_type": "code",
      "metadata": {
        "id": "2_d2Ajb_SkKl"
      },
      "source": [
        "#Creating bunch of sentences\n",
        "raw_docs = [\"I am writing some very basic english sentences\",\n",
        "\"I'm just writing it for the demo PURPOSE to make audience understand the basics .\",\n",
        "\"The point is to _learn HOW it works_ on #simple # data.\"]"
      ],
      "execution_count": null,
      "outputs": []
    },
    {
      "cell_type": "code",
      "metadata": {
        "id": "O1gWlvWNSkKl"
      },
      "source": [
        "#importing nltk package\n",
        "import nltk"
      ],
      "execution_count": null,
      "outputs": []
    },
    {
      "cell_type": "code",
      "metadata": {
        "id": "_fsZ2-1xSkKl"
      },
      "source": [
        "#nltk.download()\n",
        "\n",
        "#python -m nltk.downloader all"
      ],
      "execution_count": null,
      "outputs": []
    },
    {
      "cell_type": "markdown",
      "metadata": {
        "id": "g_RmXnOBSkKm"
      },
      "source": [
        "# Step 1 - convert to lower case"
      ]
    },
    {
      "cell_type": "code",
      "metadata": {
        "id": "XECPovhNSkKm",
        "outputId": "29562ca0-9979-4214-b443-dc7918789835"
      },
      "source": [
        "import string\n",
        "raw_docs = [doc.lower() for doc in raw_docs]\n",
        "print(raw_docs)"
      ],
      "execution_count": null,
      "outputs": [
        {
          "output_type": "stream",
          "text": [
            "['i am writing some very basic english sentences', \"i'm just writing it for the demo purpose to make audience understand the basics .\", 'the point is to _learn how it works_ on #simple # data.']\n"
          ],
          "name": "stdout"
        }
      ]
    },
    {
      "cell_type": "markdown",
      "metadata": {
        "id": "OuY57SrCSkKn"
      },
      "source": [
        "# Step 2 - Tokenization"
      ]
    },
    {
      "cell_type": "code",
      "metadata": {
        "id": "DGQn9dE9SkKo",
        "outputId": "fa3e10d9-3b57-4229-ad1e-aaee3ec7aed2"
      },
      "source": [
        "# word tokenize\n",
        "from nltk.tokenize import word_tokenize\n",
        "tokenized_docs = [word_tokenize(doc) for doc in raw_docs]\n",
        "print(tokenized_docs)\n",
        "\n",
        "print(\"#######################################################################################\")\n",
        "\n",
        "#Sentence tokenization\n",
        "\n",
        "from nltk.tokenize import sent_tokenize\n",
        "sent_token = [sent_tokenize(doc) for doc in raw_docs]\n",
        "print(sent_token)"
      ],
      "execution_count": null,
      "outputs": [
        {
          "output_type": "stream",
          "text": [
            "[['i', 'am', 'writing', 'some', 'very', 'basic', 'english', 'sentences'], ['i', \"'m\", 'just', 'writing', 'it', 'for', 'the', 'demo', 'purpose', 'to', 'make', 'audience', 'understand', 'the', 'basics', '.'], ['the', 'point', 'is', 'to', '_learn', 'how', 'it', 'works_', 'on', '#', 'simple', '#', 'data', '.']]\n",
            "#######################################################################################\n",
            "[['i am writing some very basic english sentences'], [\"i'm just writing it for the demo purpose to make audience understand the basics .\"], ['the point is to _learn how it works_ on #simple # data.']]\n"
          ],
          "name": "stdout"
        }
      ]
    },
    {
      "cell_type": "markdown",
      "metadata": {
        "id": "JVtH6JvaSkKp"
      },
      "source": [
        "# Step 3 - Punctuation Removal"
      ]
    },
    {
      "cell_type": "code",
      "metadata": {
        "id": "YL2w0z7OSkKp",
        "outputId": "89e630d5-69d2-4adf-c2f4-e37647757545"
      },
      "source": [
        "# Removing punctuation\n",
        "import re\n",
        "regex = re.compile('[%s]' % re.escape(string.punctuation)) #see documentation here: http://docs.python.org/2/library/string.html\n",
        "\n",
        "tokenized_docs_no_punctuation = []\n",
        "\n",
        "for review in tokenized_docs:\n",
        "    new_review = []\n",
        "    for token in review:\n",
        "        new_token = regex.sub(u'', token)\n",
        "        if not new_token == u'':\n",
        "            new_review.append(new_token)\n",
        "    \n",
        "    tokenized_docs_no_punctuation.append(new_review)\n",
        "    \n",
        "print(tokenized_docs_no_punctuation)"
      ],
      "execution_count": null,
      "outputs": [
        {
          "output_type": "stream",
          "text": [
            "[['i', 'am', 'writing', 'some', 'very', 'basic', 'english', 'sentences'], ['i', 'm', 'just', 'writing', 'it', 'for', 'the', 'demo', 'purpose', 'to', 'make', 'audience', 'understand', 'the', 'basics'], ['the', 'point', 'is', 'to', 'learn', 'how', 'it', 'works', 'on', 'simple', 'data']]\n"
          ],
          "name": "stdout"
        }
      ]
    },
    {
      "cell_type": "markdown",
      "metadata": {
        "id": "yUzDXUa6SkKp"
      },
      "source": [
        "# Step 4 - Removing Stopwords"
      ]
    },
    {
      "cell_type": "code",
      "metadata": {
        "id": "N5HvowDoSkKq",
        "outputId": "192f6ba5-e0b7-49a8-bf25-e35446171c37"
      },
      "source": [
        "# Cleaning text of stopwords\n",
        "from nltk.corpus import stopwords\n",
        "\n",
        "tokenized_docs_no_stopwords = []\n",
        "\n",
        "for doc in tokenized_docs_no_punctuation:\n",
        "    new_term_vector = []\n",
        "    for word in doc:\n",
        "        if not word in stopwords.words('english'):\n",
        "            new_term_vector.append(word)\n",
        "    \n",
        "    tokenized_docs_no_stopwords.append(new_term_vector)\n",
        "\n",
        "print(tokenized_docs_no_stopwords)"
      ],
      "execution_count": null,
      "outputs": [
        {
          "output_type": "stream",
          "text": [
            "[['writing', 'basic', 'english', 'sentences'], ['writing', 'demo', 'purpose', 'make', 'audience', 'understand', 'basics'], ['point', 'learn', 'works', 'simple', 'data']]\n"
          ],
          "name": "stdout"
        }
      ]
    },
    {
      "cell_type": "markdown",
      "metadata": {
        "id": "lZYMMLACSkKq"
      },
      "source": [
        "# Step 5- Stemming and Lemmantization"
      ]
    },
    {
      "cell_type": "code",
      "metadata": {
        "id": "6SaekDtuSkKq",
        "outputId": "8d2956ad-84c7-464d-fea0-8d064c4e07bd"
      },
      "source": [
        "# Stemming and Lemmatization\n",
        "from nltk.stem.porter import PorterStemmer\n",
        "from nltk.stem.wordnet import WordNetLemmatizer\n",
        "\n",
        "porter = PorterStemmer()\n",
        "wordnet = WordNetLemmatizer()\n",
        "\n",
        "preprocessed_docs = []\n",
        "\n",
        "for doc in tokenized_docs_no_stopwords:\n",
        "    final_doc = []\n",
        "    for word in doc:\n",
        "        #final_doc.append(porter.stem(word))\n",
        "        final_doc.append(wordnet.lemmatize(word))\n",
        "    \n",
        "    preprocessed_docs.append(final_doc)\n",
        "\n",
        "print(preprocessed_docs)"
      ],
      "execution_count": null,
      "outputs": [
        {
          "output_type": "stream",
          "text": [
            "[['writing', 'basic', 'english', 'sentence'], ['writing', 'demo', 'purpose', 'make', 'audience', 'understand', 'basic'], ['point', 'learn', 'work', 'simple', 'data']]\n"
          ],
          "name": "stdout"
        }
      ]
    },
    {
      "cell_type": "markdown",
      "metadata": {
        "id": "uRkvJxaLSkKr"
      },
      "source": [
        "# Advance cleaning technique 1 - Normalization "
      ]
    },
    {
      "cell_type": "code",
      "metadata": {
        "id": "uco4pebqSkKr"
      },
      "source": [
        "text = \"On the 30th Jan 2020,Corona virus hit India with 1st case in kerala  anywhere, G.O.I started acting and allocated fund of 17287 Crores I.N.R\""
      ],
      "execution_count": null,
      "outputs": []
    },
    {
      "cell_type": "code",
      "metadata": {
        "id": "d9a4mJ_1SkKs",
        "outputId": "4bad9ffc-ac1f-4a63-9a80-0c996cd4ee74"
      },
      "source": [
        "from normalise import normalise\n",
        "\n",
        "custom_abbr = {\n",
        "    \"G.O.I\": \"Government Of India\",\n",
        "    \"I.N.R\": \"Indian Rupees\",\n",
        "    \"ttyl\":\"talk to you later\"\n",
        "    \n",
        "}\n",
        "\n",
        "normalized_tokens = normalise(word_tokenize(text), user_abbrevs=custom_abbr, verbose=False)\n",
        "display(f\"Normalized text: {' '.join(normalized_tokens)}\")"
      ],
      "execution_count": null,
      "outputs": [
        {
          "output_type": "display_data",
          "data": {
            "text/plain": [
              "'Normalized text: On the thirtieth of Jan twenty twenty , Corona virus hit India with first case in kerala anywhere , Government Of India started acting and allocated fund of seventeen thousand, two hundred and eighty seven Crores Indian Rupees'"
            ]
          },
          "metadata": {
            "tags": []
          }
        }
      ]
    },
    {
      "cell_type": "markdown",
      "metadata": {
        "id": "11wFEP7ZSkKs"
      },
      "source": [
        "# Advance cleaning technique 2 - Type corection - To be shown later "
      ]
    },
    {
      "cell_type": "code",
      "metadata": {
        "id": "N_2ss_t4SkKt"
      },
      "source": [
        ""
      ],
      "execution_count": null,
      "outputs": []
    }
  ]
}